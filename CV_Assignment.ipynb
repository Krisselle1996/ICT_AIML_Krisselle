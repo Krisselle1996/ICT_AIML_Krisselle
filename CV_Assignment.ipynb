{
  "nbformat": 4,
  "nbformat_minor": 0,
  "metadata": {
    "colab": {
      "provenance": [],
      "gpuType": "T4"
    },
    "kernelspec": {
      "name": "python3",
      "display_name": "Python 3"
    },
    "language_info": {
      "name": "python"
    },
    "accelerator": "GPU"
  },
  "cells": [
    {
      "cell_type": "markdown",
      "source": [
        "IMPORTING NECESSARY LIBRARIES AND READING FILE"
      ],
      "metadata": {
        "id": "quoyBwVhSNc3"
      }
    },
    {
      "cell_type": "code",
      "execution_count": 3,
      "metadata": {
        "id": "F6xYeCkMR3h-"
      },
      "outputs": [],
      "source": [
        "import numpy as np\n",
        "import pandas as pd\n",
        "import matplotlib.pyplot as plt\n",
        "import seaborn as sns\n",
        "import warnings\n",
        "warnings.filterwarnings(\"ignore\")\n",
        "import kagglehub\n",
        "from tensorflow.keras.preprocessing.image import ImageDataGenerator\n",
        "from sklearn.model_selection import train_test_split"
      ]
    },
    {
      "cell_type": "code",
      "source": [
        "# Download latest version\n",
        "img = kagglehub.dataset_download(\"kritikseth/fruit-and-vegetable-image-recognition\")\n",
        "print(\"Path to dataset files:\", img)"
      ],
      "metadata": {
        "id": "IJj0Pe9SSVnU",
        "colab": {
          "base_uri": "https://localhost:8080/"
        },
        "outputId": "a0f008e4-c9b5-4064-b709-1cb837e45ea6"
      },
      "execution_count": 4,
      "outputs": [
        {
          "output_type": "stream",
          "name": "stdout",
          "text": [
            "Path to dataset files: /root/.cache/kagglehub/datasets/kritikseth/fruit-and-vegetable-image-recognition/versions/8\n"
          ]
        }
      ]
    },
    {
      "cell_type": "code",
      "source": [
        "from pathlib import Path\n",
        "train_dir = Path('/root/.cache/kagglehub/datasets/kritikseth/fruit-and-vegetable-image-recognition/versions/8/train/')\n",
        "\n",
        "train_filepaths = list(train_dir.glob(r'**/*.jpg'))\n",
        "\n",
        "test_dir = Path('/root/.cache/kagglehub/datasets/kritikseth/fruit-and-vegetable-image-recognition/versions/8/test/')\n",
        "test_filepaths = list(test_dir.glob(r'**/*.jpg'))\n",
        "\n",
        "val_dir = Path('/root/.cache/kagglehub/datasets/kritikseth/fruit-and-vegetable-image-recognition/versions/8/val/')\n",
        "val_filepaths = list(val_dir.glob(r'**/*.jpg'))"
      ],
      "metadata": {
        "id": "IbiECoiUS0DE"
      },
      "execution_count": 5,
      "outputs": []
    },
    {
      "cell_type": "code",
      "source": [
        "def create_dataframe(filepaths):\n",
        "    data = {'img': [str(filepath) for filepath in filepaths],\n",
        "            'label': [Path(filepath).parent.name for filepath in filepaths]}\n",
        "    return pd.DataFrame(data)\n",
        "\n",
        "df_train = create_dataframe(train_filepaths)\n",
        "df_test = create_dataframe(test_filepaths)\n",
        "df_val = create_dataframe(val_filepaths)"
      ],
      "metadata": {
        "id": "LI7AocHzS-UY"
      },
      "execution_count": 6,
      "outputs": []
    },
    {
      "cell_type": "markdown",
      "source": [
        "DATA PREPROCESSING"
      ],
      "metadata": {
        "id": "zq6t0R3ITGfZ"
      }
    },
    {
      "cell_type": "code",
      "source": [
        "train_datagen = ImageDataGenerator(rescale=1.0/255, rotation_range=30, width_shift_range=0.2,\n",
        "                                   height_shift_range=0.2, shear_range=0.2, zoom_range=0.2, horizontal_flip=True)\n",
        "\n",
        "test_val_datagen = ImageDataGenerator(rescale=1.0/255)"
      ],
      "metadata": {
        "id": "0ukBAFIKTQ6-"
      },
      "execution_count": 7,
      "outputs": []
    },
    {
      "cell_type": "code",
      "source": [
        "# Check original labels before mapping\n",
        "original_labels_train = [Path(filepath).parent.name for filepath in train_filepaths]\n",
        "unique_labels_train = set(original_labels_train)\n",
        "\n",
        "print(\"Unique original labels in training dataset:\", unique_labels_train)"
      ],
      "metadata": {
        "id": "Ju1PZiB9TZoV",
        "colab": {
          "base_uri": "https://localhost:8080/"
        },
        "outputId": "a2b05b1a-3bcd-4603-8db7-450af55dce16"
      },
      "execution_count": 8,
      "outputs": [
        {
          "output_type": "stream",
          "name": "stdout",
          "text": [
            "Unique original labels in training dataset: {'pear', 'garlic', 'corn', 'tomato', 'spinach', 'soy beans', 'kiwi', 'jalepeno', 'orange', 'sweetcorn', 'lemon', 'raddish', 'beetroot', 'pomegranate', 'onion', 'lettuce', 'mango', 'sweetpotato', 'banana', 'ginger', 'peas', 'pineapple', 'eggplant', 'cauliflower', 'paprika', 'turnip', 'chilli pepper', 'capsicum', 'cucumber', 'bell pepper', 'potato', 'watermelon', 'cabbage', 'carrot', 'grapes', 'apple'}\n"
          ]
        }
      ]
    },
    {
      "cell_type": "code",
      "source": [
        "fruit= {\n",
        "    'banana', 'apple', 'pear', 'grapes', 'orange', 'kiwi', 'watermelon',\n",
        "    'pomegranate', 'pineapple', 'mango'\n",
        "}\n",
        "\n",
        "# Map labels to 'Fruit' or 'Vegetable'\n",
        "df_train['label'] = df_train['label'].apply(lambda x: 'Fruit' if x in fruit else 'Vegetable')\n",
        "df_val['label'] = df_val['label'].apply(lambda x: 'Fruit' if x in fruit else 'Vegetable')\n",
        "df_test['label'] = df_test['label'].apply(lambda x: 'Fruit' if x in fruit else 'Vegetable')\n",
        "\n",
        "# Verify the mapping\n",
        "print(\"Unique labels after mapping (training set):\", df_train['label'].unique())\n",
        "print(\"Label distribution after mapping (training set):\\n\", df_train['label'].value_counts())"
      ],
      "metadata": {
        "id": "s9kLIVI7Tctu",
        "colab": {
          "base_uri": "https://localhost:8080/"
        },
        "outputId": "9b21122f-4ff5-4082-8a26-c41b1efaa1b1"
      },
      "execution_count": 9,
      "outputs": [
        {
          "output_type": "stream",
          "name": "stdout",
          "text": [
            "Unique labels after mapping (training set): ['Vegetable' 'Fruit']\n",
            "Label distribution after mapping (training set):\n",
            " label\n",
            "Vegetable    2042\n",
            "Fruit         738\n",
            "Name: count, dtype: int64\n"
          ]
        }
      ]
    },
    {
      "cell_type": "code",
      "source": [
        "# Verify the mapping\n",
        "print(df_train['label'].value_counts())\n",
        "print(df_val['label'].value_counts())\n",
        "print(df_test['label'].value_counts())"
      ],
      "metadata": {
        "id": "1FDtf52QTn9G",
        "colab": {
          "base_uri": "https://localhost:8080/"
        },
        "outputId": "8ec7ad53-7901-4f28-e1d3-2cd86a167ec9"
      },
      "execution_count": 10,
      "outputs": [
        {
          "output_type": "stream",
          "name": "stdout",
          "text": [
            "label\n",
            "Vegetable    2042\n",
            "Fruit         738\n",
            "Name: count, dtype: int64\n",
            "Series([], Name: count, dtype: int64)\n",
            "label\n",
            "Vegetable    241\n",
            "Fruit         93\n",
            "Name: count, dtype: int64\n"
          ]
        }
      ]
    },
    {
      "cell_type": "markdown",
      "source": [
        "GENERATING DATA GENERATORS"
      ],
      "metadata": {
        "id": "9NBjjZZGTuFa"
      }
    },
    {
      "cell_type": "code",
      "source": [
        "print(\"Unique labels in training set:\", df_train['label'].unique())\n",
        "print(\"Label distribution in training set:\\n\", df_train['label'].value_counts())"
      ],
      "metadata": {
        "id": "ml0dK2FDTq46",
        "colab": {
          "base_uri": "https://localhost:8080/"
        },
        "outputId": "725815c2-e966-415a-a8f2-f73cd525e92b"
      },
      "execution_count": 11,
      "outputs": [
        {
          "output_type": "stream",
          "name": "stdout",
          "text": [
            "Unique labels in training set: ['Vegetable' 'Fruit']\n",
            "Label distribution in training set:\n",
            " label\n",
            "Vegetable    2042\n",
            "Fruit         738\n",
            "Name: count, dtype: int64\n"
          ]
        }
      ]
    },
    {
      "cell_type": "code",
      "source": [
        "# Check if the validation directory exists and list its contents\n",
        "val_dir = Path('/root/.cache/kagglehub/datasets/kritikseth/fruit-and-vegetable-image-recognition/versions/8/val/')\n",
        "val_images = list(val_dir.glob(r'**/*.jpg'))\n",
        "print(f\"Number of images in validation directory: {len(val_images)}\")"
      ],
      "metadata": {
        "id": "jhFd80P_Tygi",
        "colab": {
          "base_uri": "https://localhost:8080/"
        },
        "outputId": "17925e7d-1a6e-4b7b-dbb9-a3e29d78d039"
      },
      "execution_count": 12,
      "outputs": [
        {
          "output_type": "stream",
          "name": "stdout",
          "text": [
            "Number of images in validation directory: 0\n"
          ]
        }
      ]
    },
    {
      "cell_type": "code",
      "source": [
        "if 'Fruit' not in df_train['label'].values or 'Vegetable' not in df_train['label'].values:\n",
        "    print(\"One of the categories is missing. Check the mapping logic or dataset distribution.\")"
      ],
      "metadata": {
        "id": "XBnQldHGT1Ve"
      },
      "execution_count": 13,
      "outputs": []
    },
    {
      "cell_type": "markdown",
      "source": [
        "TRAIN TEST SPLIT"
      ],
      "metadata": {
        "id": "aBLpzzyyT9sk"
      }
    },
    {
      "cell_type": "code",
      "source": [
        "# Split the training file paths into train and validation sets (80% train, 20% validation)\n",
        "train_filepaths_split, val_filepaths_split = train_test_split(train_filepaths, test_size=0.2, random_state=42)\n",
        "\n",
        "# Create new DataFrames for train and validation\n",
        "df_train = create_dataframe(train_filepaths_split)\n",
        "df_val = create_dataframe(val_filepaths_split)\n",
        "\n",
        "\n",
        "print(\"New training DataFrame shape:\", df_train.shape)\n",
        "print(\"New validation DataFrame shape:\", df_val.shape)\n",
        "print(\"First few rows of new validation set:\\n\", df_val.head())"
      ],
      "metadata": {
        "id": "gaW_rKpkT4Tx",
        "colab": {
          "base_uri": "https://localhost:8080/"
        },
        "outputId": "b4f55a49-f838-4cd5-ee5d-b00810c9326b"
      },
      "execution_count": 14,
      "outputs": [
        {
          "output_type": "stream",
          "name": "stdout",
          "text": [
            "New training DataFrame shape: (2224, 2)\n",
            "New validation DataFrame shape: (556, 2)\n",
            "First few rows of new validation set:\n",
            "                                                  img        label\n",
            "0  /root/.cache/kagglehub/datasets/kritikseth/fru...       grapes\n",
            "1  /root/.cache/kagglehub/datasets/kritikseth/fru...       turnip\n",
            "2  /root/.cache/kagglehub/datasets/kritikseth/fru...  bell pepper\n",
            "3  /root/.cache/kagglehub/datasets/kritikseth/fru...       garlic\n",
            "4  /root/.cache/kagglehub/datasets/kritikseth/fru...       tomato\n"
          ]
        }
      ]
    },
    {
      "cell_type": "code",
      "source": [
        "# Map labels in both train and validation sets\n",
        "df_train['label'] = df_train['label'].apply(lambda x: 'Fruit' if x in fruit else 'Vegetable')\n",
        "df_val['label'] = df_val['label'].apply(lambda x: 'Fruit' if x in fruit else 'Vegetable')\n",
        "\n",
        "# Verify the label distribution\n",
        "print(\"Label distribution in training set:\\n\", df_train['label'].value_counts())\n",
        "print(\"Label distribution in validation set:\\n\", df_val['label'].value_counts())"
      ],
      "metadata": {
        "id": "tMWnrBlET8Wm",
        "colab": {
          "base_uri": "https://localhost:8080/"
        },
        "outputId": "5fdad7f6-e031-4cad-a2a5-6210e5fb3928"
      },
      "execution_count": 15,
      "outputs": [
        {
          "output_type": "stream",
          "name": "stdout",
          "text": [
            "Label distribution in training set:\n",
            " label\n",
            "Vegetable    1644\n",
            "Fruit         580\n",
            "Name: count, dtype: int64\n",
            "Label distribution in validation set:\n",
            " label\n",
            "Vegetable    398\n",
            "Fruit        158\n",
            "Name: count, dtype: int64\n"
          ]
        }
      ]
    },
    {
      "cell_type": "code",
      "source": [
        "train_gen = train_datagen.flow_from_dataframe(\n",
        "    df_train,\n",
        "    x_col='img',\n",
        "    y_col='label',\n",
        "    target_size=(150, 150),\n",
        "    class_mode='binary',\n",
        "    batch_size=32\n",
        ")\n",
        "\n",
        "val_gen = test_val_datagen.flow_from_dataframe(\n",
        "    df_val,\n",
        "    x_col='img',\n",
        "    y_col='label',\n",
        "    target_size=(150, 150),\n",
        "    class_mode='binary',\n",
        "    batch_size=32\n",
        ")\n",
        "\n",
        "test_gen = test_val_datagen.flow_from_dataframe(\n",
        "    df_test,\n",
        "    x_col='img',\n",
        "    y_col='label',\n",
        "    target_size=(150, 150),\n",
        "    class_mode='binary',\n",
        "    batch_size=32,\n",
        "    shuffle=False\n",
        ")\n"
      ],
      "metadata": {
        "id": "LXDFSkUZUEtN",
        "colab": {
          "base_uri": "https://localhost:8080/"
        },
        "outputId": "467b34fa-e540-4fb4-a5ca-fcf021823fde"
      },
      "execution_count": 16,
      "outputs": [
        {
          "output_type": "stream",
          "name": "stdout",
          "text": [
            "Found 2224 validated image filenames belonging to 2 classes.\n",
            "Found 556 validated image filenames belonging to 2 classes.\n",
            "Found 334 validated image filenames belonging to 2 classes.\n"
          ]
        }
      ]
    },
    {
      "cell_type": "markdown",
      "source": [
        "MODEL BUILDING"
      ],
      "metadata": {
        "id": "7ZfZ3qJsULmN"
      }
    },
    {
      "cell_type": "code",
      "source": [
        "from tensorflow.keras.models import Sequential\n",
        "from tensorflow.keras.layers import Conv2D, MaxPooling2D, Flatten, Dense, Dropout\n",
        "\n",
        "model = Sequential([\n",
        "    Conv2D(32, (3, 3), activation='relu', input_shape=(150, 150, 3)),\n",
        "    MaxPooling2D((2, 2)),\n",
        "    Conv2D(64, (3, 3), activation='relu'),\n",
        "    MaxPooling2D((2, 2)),\n",
        "    Conv2D(128, (3, 3), activation='relu'),\n",
        "    MaxPooling2D((2, 2)),\n",
        "    Flatten(),\n",
        "    Dense(128, activation='relu'),\n",
        "    Dropout(0.5),\n",
        "    Dense(1, activation='sigmoid')  # Binary classification\n",
        "])\n"
      ],
      "metadata": {
        "id": "6vhzP729UI21"
      },
      "execution_count": 17,
      "outputs": []
    },
    {
      "cell_type": "code",
      "source": [
        "#COMPILE THE MODEL\n",
        "\n",
        "model.compile(optimizer='adam', loss='binary_crossentropy', metrics=['accuracy'])"
      ],
      "metadata": {
        "id": "hJv_NGm6UP-x"
      },
      "execution_count": 18,
      "outputs": []
    },
    {
      "cell_type": "markdown",
      "source": [
        "MODEL TRAINING"
      ],
      "metadata": {
        "id": "goJ6wSSvUWkA"
      }
    },
    {
      "cell_type": "code",
      "source": [
        "from tensorflow.keras.callbacks import EarlyStopping\n",
        "\n",
        "early_stopping = EarlyStopping(monitor='val_loss', patience=5, restore_best_weights=True)\n",
        "\n",
        "history = model.fit(train_gen, validation_data=val_gen, epochs=20, callbacks=[early_stopping])"
      ],
      "metadata": {
        "colab": {
          "base_uri": "https://localhost:8080/"
        },
        "id": "g_FUe1UNUU3F",
        "outputId": "3bd239c2-a46e-453a-de13-85ece95b40a2"
      },
      "execution_count": 20,
      "outputs": [
        {
          "output_type": "stream",
          "name": "stdout",
          "text": [
            "Epoch 1/20\n",
            "\u001b[1m70/70\u001b[0m \u001b[32m━━━━━━━━━━━━━━━━━━━━\u001b[0m\u001b[37m\u001b[0m \u001b[1m74s\u001b[0m 950ms/step - accuracy: 0.7633 - loss: 0.4752 - val_accuracy: 0.7482 - val_loss: 0.4952\n",
            "Epoch 2/20\n",
            "\u001b[1m70/70\u001b[0m \u001b[32m━━━━━━━━━━━━━━━━━━━━\u001b[0m\u001b[37m\u001b[0m \u001b[1m79s\u001b[0m 947ms/step - accuracy: 0.7596 - loss: 0.4827 - val_accuracy: 0.7590 - val_loss: 0.4800\n",
            "Epoch 3/20\n",
            "\u001b[1m70/70\u001b[0m \u001b[32m━━━━━━━━━━━━━━━━━━━━\u001b[0m\u001b[37m\u001b[0m \u001b[1m73s\u001b[0m 954ms/step - accuracy: 0.7380 - loss: 0.5030 - val_accuracy: 0.7842 - val_loss: 0.4607\n",
            "Epoch 4/20\n",
            "\u001b[1m70/70\u001b[0m \u001b[32m━━━━━━━━━━━━━━━━━━━━\u001b[0m\u001b[37m\u001b[0m \u001b[1m80s\u001b[0m 943ms/step - accuracy: 0.7419 - loss: 0.4920 - val_accuracy: 0.7842 - val_loss: 0.4499\n",
            "Epoch 5/20\n",
            "\u001b[1m70/70\u001b[0m \u001b[32m━━━━━━━━━━━━━━━━━━━━\u001b[0m\u001b[37m\u001b[0m \u001b[1m71s\u001b[0m 949ms/step - accuracy: 0.7557 - loss: 0.4640 - val_accuracy: 0.7734 - val_loss: 0.4431\n",
            "Epoch 6/20\n",
            "\u001b[1m70/70\u001b[0m \u001b[32m━━━━━━━━━━━━━━━━━━━━\u001b[0m\u001b[37m\u001b[0m \u001b[1m70s\u001b[0m 921ms/step - accuracy: 0.7487 - loss: 0.4818 - val_accuracy: 0.7788 - val_loss: 0.4327\n",
            "Epoch 7/20\n",
            "\u001b[1m70/70\u001b[0m \u001b[32m━━━━━━━━━━━━━━━━━━━━\u001b[0m\u001b[37m\u001b[0m \u001b[1m88s\u001b[0m 1s/step - accuracy: 0.7749 - loss: 0.4662 - val_accuracy: 0.7626 - val_loss: 0.4503\n",
            "Epoch 8/20\n",
            "\u001b[1m70/70\u001b[0m \u001b[32m━━━━━━━━━━━━━━━━━━━━\u001b[0m\u001b[37m\u001b[0m \u001b[1m78s\u001b[0m 1s/step - accuracy: 0.7801 - loss: 0.4444 - val_accuracy: 0.7968 - val_loss: 0.4288\n",
            "Epoch 9/20\n",
            "\u001b[1m70/70\u001b[0m \u001b[32m━━━━━━━━━━━━━━━━━━━━\u001b[0m\u001b[37m\u001b[0m \u001b[1m80s\u001b[0m 1s/step - accuracy: 0.7665 - loss: 0.4516 - val_accuracy: 0.7644 - val_loss: 0.4996\n",
            "Epoch 10/20\n",
            "\u001b[1m70/70\u001b[0m \u001b[32m━━━━━━━━━━━━━━━━━━━━\u001b[0m\u001b[37m\u001b[0m \u001b[1m81s\u001b[0m 1s/step - accuracy: 0.7661 - loss: 0.4435 - val_accuracy: 0.7842 - val_loss: 0.4446\n",
            "Epoch 11/20\n",
            "\u001b[1m70/70\u001b[0m \u001b[32m━━━━━━━━━━━━━━━━━━━━\u001b[0m\u001b[37m\u001b[0m \u001b[1m77s\u001b[0m 922ms/step - accuracy: 0.7518 - loss: 0.4538 - val_accuracy: 0.7788 - val_loss: 0.4368\n",
            "Epoch 12/20\n",
            "\u001b[1m70/70\u001b[0m \u001b[32m━━━━━━━━━━━━━━━━━━━━\u001b[0m\u001b[37m\u001b[0m \u001b[1m70s\u001b[0m 923ms/step - accuracy: 0.7906 - loss: 0.4242 - val_accuracy: 0.7896 - val_loss: 0.4104\n",
            "Epoch 13/20\n",
            "\u001b[1m70/70\u001b[0m \u001b[32m━━━━━━━━━━━━━━━━━━━━\u001b[0m\u001b[37m\u001b[0m \u001b[1m87s\u001b[0m 973ms/step - accuracy: 0.7794 - loss: 0.4301 - val_accuracy: 0.7968 - val_loss: 0.4199\n",
            "Epoch 14/20\n",
            "\u001b[1m70/70\u001b[0m \u001b[32m━━━━━━━━━━━━━━━━━━━━\u001b[0m\u001b[37m\u001b[0m \u001b[1m81s\u001b[0m 971ms/step - accuracy: 0.7731 - loss: 0.4241 - val_accuracy: 0.7806 - val_loss: 0.4262\n",
            "Epoch 15/20\n",
            "\u001b[1m70/70\u001b[0m \u001b[32m━━━━━━━━━━━━━━━━━━━━\u001b[0m\u001b[37m\u001b[0m \u001b[1m71s\u001b[0m 941ms/step - accuracy: 0.7986 - loss: 0.4368 - val_accuracy: 0.8058 - val_loss: 0.4132\n",
            "Epoch 16/20\n",
            "\u001b[1m70/70\u001b[0m \u001b[32m━━━━━━━━━━━━━━━━━━━━\u001b[0m\u001b[37m\u001b[0m \u001b[1m82s\u001b[0m 931ms/step - accuracy: 0.7977 - loss: 0.4229 - val_accuracy: 0.7986 - val_loss: 0.4340\n",
            "Epoch 17/20\n",
            "\u001b[1m70/70\u001b[0m \u001b[32m━━━━━━━━━━━━━━━━━━━━\u001b[0m\u001b[37m\u001b[0m \u001b[1m89s\u001b[0m 1s/step - accuracy: 0.7817 - loss: 0.4357 - val_accuracy: 0.8309 - val_loss: 0.3930\n",
            "Epoch 18/20\n",
            "\u001b[1m70/70\u001b[0m \u001b[32m━━━━━━━━━━━━━━━━━━━━\u001b[0m\u001b[37m\u001b[0m \u001b[1m71s\u001b[0m 932ms/step - accuracy: 0.7990 - loss: 0.4392 - val_accuracy: 0.8022 - val_loss: 0.4119\n",
            "Epoch 19/20\n",
            "\u001b[1m70/70\u001b[0m \u001b[32m━━━━━━━━━━━━━━━━━━━━\u001b[0m\u001b[37m\u001b[0m \u001b[1m82s\u001b[0m 945ms/step - accuracy: 0.7705 - loss: 0.4373 - val_accuracy: 0.8399 - val_loss: 0.3914\n",
            "Epoch 20/20\n",
            "\u001b[1m70/70\u001b[0m \u001b[32m━━━━━━━━━━━━━━━━━━━━\u001b[0m\u001b[37m\u001b[0m \u001b[1m73s\u001b[0m 987ms/step - accuracy: 0.8050 - loss: 0.4155 - val_accuracy: 0.8165 - val_loss: 0.3841\n"
          ]
        }
      ]
    },
    {
      "cell_type": "markdown",
      "source": [
        "MODEL EVALUATION"
      ],
      "metadata": {
        "id": "j51QkqdUUfc1"
      }
    },
    {
      "cell_type": "code",
      "source": [
        "test_loss, test_acc = model.evaluate(test_gen)\n",
        "print(f\"Test Accuracy: {test_acc * 100:.2f}%\")"
      ],
      "metadata": {
        "id": "T1qkifYRUb2s",
        "colab": {
          "base_uri": "https://localhost:8080/"
        },
        "outputId": "39122f72-b1f0-4a23-bdd0-0bb03b684bcb"
      },
      "execution_count": 21,
      "outputs": [
        {
          "output_type": "stream",
          "name": "stdout",
          "text": [
            "\u001b[1m11/11\u001b[0m \u001b[32m━━━━━━━━━━━━━━━━━━━━\u001b[0m\u001b[37m\u001b[0m \u001b[1m12s\u001b[0m 1s/step - accuracy: 0.9090 - loss: 0.2287\n",
            "Test Accuracy: 86.83%\n"
          ]
        }
      ]
    },
    {
      "cell_type": "markdown",
      "source": [
        "DATA VISUALIZATION"
      ],
      "metadata": {
        "id": "mFaRVEDNUkON"
      }
    },
    {
      "cell_type": "code",
      "source": [
        "plt.figure(figsize=(12, 4))\n",
        "\n",
        "# Accuracy\n",
        "plt.subplot(1, 2, 1)\n",
        "plt.plot(history.history['accuracy'], label='Train Accuracy')\n",
        "plt.plot(history.history['val_accuracy'], label='Val Accuracy')\n",
        "plt.legend()\n",
        "plt.title('Accuracy')\n",
        "\n",
        "# Loss\n",
        "plt.subplot(1, 2, 2)\n",
        "plt.plot(history.history['loss'], label='Train Loss')\n",
        "plt.plot(history.history['val_loss'], label='Val Loss')\n",
        "plt.legend()\n",
        "plt.title('Loss')\n",
        "\n",
        "plt.show()"
      ],
      "metadata": {
        "id": "GhvBLwOXUmxw",
        "colab": {
          "base_uri": "https://localhost:8080/",
          "height": 391
        },
        "outputId": "a2475265-ca26-4c66-d72f-6d21228d9a2e"
      },
      "execution_count": 23,
      "outputs": [
        {
          "output_type": "display_data",
          "data": {
            "text/plain": [
              "<Figure size 1200x400 with 2 Axes>"
            ],
            "image/png": "[encoded data removed]"
          },
          "metadata": {}
        }
      ]
    },
    {
      "cell_type": "code",
      "source": [
        "\n",
        "## TESTING WITH INDIVIDUAL IMAGES\n",
        "\n",
        "from tensorflow.keras.preprocessing import image\n",
        "\n",
        "# Test with a single image\n",
        "img_path = '/root/.cache/kagglehub/datasets/kritikseth/fruit-and-vegetable-image-recognition/versions/8/train/spinach/Image_8.jpg'\n",
        "\n",
        "img_test = image.load_img(img_path, target_size=(150, 150))\n",
        "img_array = image.img_to_array(img_test) / 255.0\n",
        "img_array = np.expand_dims(img_array, axis=0)\n",
        "\n",
        "prediction = model.predict(img_array)\n",
        "print(f\"Prediction for {Path(img_path).name}: {'Vegetable' if prediction[0][0] > 0.5 else 'Fruit'}\")"
      ],
      "metadata": {
        "id": "6HEV0W-GUu_p",
        "colab": {
          "base_uri": "https://localhost:8080/"
        },
        "outputId": "aecabd0d-4331-4395-f0fe-44a5be90703f"
      },
      "execution_count": 24,
      "outputs": [
        {
          "output_type": "stream",
          "name": "stdout",
          "text": [
            "\u001b[1m1/1\u001b[0m \u001b[32m━━━━━━━━━━━━━━━━━━━━\u001b[0m\u001b[37m\u001b[0m \u001b[1m1s\u001b[0m 701ms/step\n",
            "Prediction for Image_8.jpg: Vegetable\n"
          ]
        }
      ]
    }
  ]
}